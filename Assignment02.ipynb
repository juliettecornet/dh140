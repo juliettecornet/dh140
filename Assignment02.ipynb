{
 "cells": [
  {
   "cell_type": "markdown",
   "id": "29f56d4e-5e5c-46a8-9b1f-8a585803e4ad",
   "metadata": {},
   "source": [
    "Assignment 02 - Cancer Data \n",
    "Juliette Cornet \n",
    "\n",
    "The cancer data set shows the rate of cancer deaths in each state while also providing data based on sex, age and race. The data is also based on three different types of cancer: breast cancer, colorectal cancer and lung cancer. \n",
    "\n",
    "Link: https://corgis-edu.github.io/corgis/python/cancer/"
   ]
  },
  {
   "cell_type": "code",
   "execution_count": 105,
   "id": "d7491a14-434d-4ea4-9c18-a13fef9386bd",
   "metadata": {},
   "outputs": [],
   "source": [
    "import cancer\n",
    "cancer_reports = cancer.get_cancer_reports()"
   ]
  },
  {
   "cell_type": "code",
   "execution_count": 16,
   "id": "362084b1-8c00-4fb1-b7d5-8ef4287afa5d",
   "metadata": {},
   "outputs": [
    {
     "data": {
      "text/plain": [
       "module"
      ]
     },
     "execution_count": 16,
     "metadata": {},
     "output_type": "execute_result"
    }
   ],
   "source": [
    "type(cancer) #This gives the data type of the cancer dataset"
   ]
  },
  {
   "cell_type": "code",
   "execution_count": 51,
   "id": "8f1797f1-0b47-4b4f-8653-7def2c856bcd",
   "metadata": {},
   "outputs": [
    {
     "data": {
      "text/plain": [
       "{'State': 'Georgia',\n",
       " 'Total': {'Rate': 159.4, 'Number': 108222.0, 'Population': 67890652.0},\n",
       " 'Rates': {'Age': {'< 18': 2.2, '18-45': 15.7, '45-64': 205.6, '> 64': 932.2},\n",
       "  'Age and Sex': {'< 18': {'Female': 2.0, 'Male': 2.3},\n",
       "   '18 - 45': {'Female': 17.5, 'Male': 13.9},\n",
       "   '45 - 64': {'Female': 181.9, 'Male': 231.1},\n",
       "   '> 64': {'Female': 763.7, 'Male': 1160.1}},\n",
       "  'Race': {'White': 170.5,\n",
       "   'White non-Hispanic': 173.9,\n",
       "   'Black': 192.2,\n",
       "   'Asian': 89.4,\n",
       "   'Indigenous': 29.7,\n",
       "   'Hispanic': 62.6},\n",
       "  'Race and Sex': {'Female': {'White': 142.3,\n",
       "    'White non-Hispanic': 145.1,\n",
       "    'Black': 153.8,\n",
       "    'Black non-Hispanic': 155.1,\n",
       "    'Asian': 78.1,\n",
       "    'Indigenous': 31.0,\n",
       "    'Hispanic': 52.2},\n",
       "   'Male': {'White': 210.9,\n",
       "    'White non-Hispanic': 215.2,\n",
       "    'Black': 263.0,\n",
       "    'Black non-Hispanic': 265.2,\n",
       "    'Asian': 103.7,\n",
       "    'Indigenous': 29.0,\n",
       "    'Hispanic': 77.7}}},\n",
       " 'Types': {'Breast': {'Total': 23.7,\n",
       "   'Age': {'18 - 44': 4.9, '45 - 64': 38.3, '> 64': 99.1},\n",
       "   'Race': {'White': 20.8,\n",
       "    'White non-Hispanic ': 21.2,\n",
       "    'Black': 29.0,\n",
       "    'Black non-Hispanic': 29.3,\n",
       "    'Asian': 9.6,\n",
       "    'Indigenous': 0.0,\n",
       "    'Hispanic': 8.6}},\n",
       "  'Colorectal': {'Total': 14.6,\n",
       "   'Age and Sex': {'Female': {'18 - 44': 1.5, '45 - 64': 16.3, '> 64': 71.4},\n",
       "    'Male': {'18 - 44': 1.9, '45 - 64': 24.2, '> 64': 96.0}},\n",
       "   'Race': {'White': 14.5,\n",
       "    'White non-Hispanic': 14.8,\n",
       "    'Black': 21.1,\n",
       "    'Black non-Hispanic': 21.3,\n",
       "    'Asian': 9.7,\n",
       "    'Indigenous': 0.0,\n",
       "    'Hispanic': 6.0}},\n",
       "  'Lung': {'Total': 46.3,\n",
       "   'Age and Sex': {'Female': {'18 - 44': 1.3, '45 - 64': 45.7, '> 64': 210.9},\n",
       "    'Male': {'18 - 44': 1.7, '45 - 64': 74.0, '> 64': 383.3}},\n",
       "   'Race': {'White': 52.4,\n",
       "    'White non-Hispanic': 53.7,\n",
       "    'Black': 45.1,\n",
       "    'Black non-Hispanic': 45.4,\n",
       "    'Asian': 19.1,\n",
       "    'Indigenous': 0.0,\n",
       "    'Hispanic': 10.6}}}}"
      ]
     },
     "execution_count": 51,
     "metadata": {},
     "output_type": "execute_result"
    }
   ],
   "source": [
    "cancer_reports[10] #This is the data for Georgia"
   ]
  },
  {
   "cell_type": "code",
   "execution_count": 61,
   "id": "535f237f-f71d-4aab-af75-e15b457ff2ff",
   "metadata": {},
   "outputs": [],
   "source": [
    "wg = cancer_reports[10][\"Rates\"][\"Race\"][\"White\"] #This is the rate of white deaths for Georgia "
   ]
  },
  {
   "cell_type": "code",
   "execution_count": 62,
   "id": "b4b04af5-c1ec-495d-a84a-ab0dacb8d6d5",
   "metadata": {},
   "outputs": [],
   "source": [
    "wa = cancer_reports[1][\"Rates\"][\"Race\"][\"White\"] #This is the rate of white deaths for Alaska"
   ]
  },
  {
   "cell_type": "code",
   "execution_count": 64,
   "id": "e8aaac7a-1b98-412a-a8cb-247ab2d76c7b",
   "metadata": {},
   "outputs": [
    {
     "data": {
      "text/plain": [
       "2.3000000000000114"
      ]
     },
     "execution_count": 64,
     "metadata": {},
     "output_type": "execute_result"
    }
   ],
   "source": [
    "#Difference between white death for Georgia and Alaska \n",
    "wg - wa"
   ]
  },
  {
   "cell_type": "code",
   "execution_count": 68,
   "id": "f0dcafcd-f68d-447a-a13c-cedee298487f",
   "metadata": {},
   "outputs": [
    {
     "name": "stdout",
     "output_type": "stream",
     "text": [
      "Georgia has the greater death rate:\n",
      "170.5\n"
     ]
    }
   ],
   "source": [
    "#Printing the greater death rate for white people between Georgia and Alaska\n",
    "if wg > wa : \n",
    "    print(\"Georgia has the greater death rate:\") \n",
    "    print(wg)\n",
    "else : \n",
    "    print(\"Alaska has the greater death rate:\")\n",
    "    print(wa)"
   ]
  },
  {
   "cell_type": "code",
   "execution_count": 73,
   "id": "140d5b51-6ad7-4470-84e6-4e9455b83ab3",
   "metadata": {},
   "outputs": [
    {
     "name": "stdout",
     "output_type": "stream",
     "text": [
      "White\n",
      "White non-Hispanic\n",
      "Black\n",
      "Asian\n",
      "Indigenous\n",
      "Hispanic\n"
     ]
    }
   ],
   "source": [
    "#Looping all races for Georgia \n",
    "for race in cancer_reports[10][\"Rates\"][\"Race\"]:\n",
    "    print(race)"
   ]
  },
  {
   "cell_type": "code",
   "execution_count": 89,
   "id": "fde2fd55-2b79-421b-8e10-9652442e3449",
   "metadata": {},
   "outputs": [],
   "source": [
    "#Print the death rate for white people in a state\n",
    "def white_deaths(state_number):\n",
    "    print(cancer_reports[state_number][\"Rates\"][\"Race\"][\"White\"])"
   ]
  },
  {
   "cell_type": "code",
   "execution_count": 93,
   "id": "517a452f-b3a8-4916-ac24-e66092d90a37",
   "metadata": {},
   "outputs": [
    {
     "name": "stdout",
     "output_type": "stream",
     "text": [
      "170.5\n"
     ]
    }
   ],
   "source": [
    "white_deaths(10) #white deaths in Georgia"
   ]
  },
  {
   "cell_type": "code",
   "execution_count": null,
   "id": "46bca17f-32b4-4449-8766-1baccff3be35",
   "metadata": {},
   "outputs": [],
   "source": []
  },
  {
   "cell_type": "code",
   "execution_count": 119,
   "id": "acc02966-7309-4c7c-b4d2-81debbcda6d4",
   "metadata": {},
   "outputs": [],
   "source": [
    "import numpy #importing numpy module to access mean function "
   ]
  },
  {
   "cell_type": "code",
   "execution_count": 125,
   "id": "938e33cf-fe84-4cfe-8349-8244e24052f1",
   "metadata": {},
   "outputs": [],
   "source": [
    "#finding the mean of cancer death rates between white and black people in Gerogia \n",
    "white = cancer_reports[10][\"Rates\"][\"Race\"][\"White\"]\n",
    "black = cancer_reports[10][\"Rates\"][\"Race\"][\"Black\"]\n",
    "list_of_races = [black, white]"
   ]
  },
  {
   "cell_type": "code",
   "execution_count": 124,
   "id": "bb2e8af8-8405-437b-ba84-e5230324b904",
   "metadata": {},
   "outputs": [
    {
     "data": {
      "text/plain": [
       "181.35"
      ]
     },
     "execution_count": 124,
     "metadata": {},
     "output_type": "execute_result"
    }
   ],
   "source": [
    "numpy.mean(list_of_races)"
   ]
  },
  {
   "cell_type": "code",
   "execution_count": null,
   "id": "1224c72e-0d41-4bbe-9e29-6addc3686d83",
   "metadata": {},
   "outputs": [],
   "source": []
  },
  {
   "cell_type": "code",
   "execution_count": null,
   "id": "e02dbef6-00b4-4571-ac23-0ff5525edf11",
   "metadata": {},
   "outputs": [],
   "source": []
  },
  {
   "cell_type": "code",
   "execution_count": null,
   "id": "1630f395-0024-4d4e-8953-0e95c5ff17be",
   "metadata": {},
   "outputs": [],
   "source": []
  },
  {
   "cell_type": "code",
   "execution_count": null,
   "id": "120df2bc-fe3e-43e3-80c5-63b4a40bb497",
   "metadata": {},
   "outputs": [],
   "source": []
  }
 ],
 "metadata": {
  "kernelspec": {
   "display_name": "Python 3 (ipykernel)",
   "language": "python",
   "name": "python3"
  },
  "language_info": {
   "codemirror_mode": {
    "name": "ipython",
    "version": 3
   },
   "file_extension": ".py",
   "mimetype": "text/x-python",
   "name": "python",
   "nbconvert_exporter": "python",
   "pygments_lexer": "ipython3",
   "version": "3.9.6"
  }
 },
 "nbformat": 4,
 "nbformat_minor": 5
}
