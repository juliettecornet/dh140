{
 "cells": [
  {
   "cell_type": "code",
   "execution_count": null,
   "id": "3cc3e375-ed49-4b5e-b23b-3fe809a21ed3",
   "metadata": {},
   "outputs": [],
   "source": [
    "#Print the death rate for white people in a state\n",
    "def black_deaths(state_number):\n",
    "    print(cancer_reports[state_number][\"Rates\"][\"Race\"][\"Black\"])"
   ]
  }
 ],
 "metadata": {
  "kernelspec": {
   "display_name": "Python 3 (ipykernel)",
   "language": "python",
   "name": "python3"
  },
  "language_info": {
   "codemirror_mode": {
    "name": "ipython",
    "version": 3
   },
   "file_extension": ".py",
   "mimetype": "text/x-python",
   "name": "python",
   "nbconvert_exporter": "python",
   "pygments_lexer": "ipython3",
   "version": "3.9.6"
  }
 },
 "nbformat": 4,
 "nbformat_minor": 5
}
